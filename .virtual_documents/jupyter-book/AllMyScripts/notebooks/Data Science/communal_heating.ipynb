


import numpy as np
import pandas as pd 
import matplotlib.pyplot as plt
import seaborn as sns
from pandas.plotting import scatter_matrix





import os
os.getcwd()


cd "D:\Archiwum\16_github_repo\jupyter-book\AllMyScripts\notebooks\Data Science"


file = "data\dane.csv"
data = pd.read_csv(file, delimiter = ',', index_col=False) 

data = data.drop(data.columns[[0,1,2,4,13,14,15,16]], axis=1)

data.columns = ["Data", "E [GJ]", "FLow [l/h]", "T_in [C]", "T_out[C]", "dT [C]",
             "Vol [m2]", "T_work [h]", "Power [kW]"]

data = data.dropna()





dates     = data[data.columns[0]].to_numpy()
energy    = data[data.columns[1]].to_numpy()
flow      = data[data.columns[2]].to_numpy()
T_in      = data[data.columns[3]].to_numpy()
T_out     = data[data.columns[4]].to_numpy() 
dT        = data[data.columns[5]].to_numpy()
Vol       = data[data.columns[6]].to_numpy()
work_time = data[data.columns[7]].to_numpy()
power     = data[data.columns[8]].to_numpy()





variables = { 'energy':energy, 
           'Flow':flow, 'T_in':T_in, 'T_out':T_out,
           'dT':dT, 'Vol':Vol, 'work_time':work_time, 'power':power}






def print_statistics(item):
    for name, variable in item.items():
        print("Variable:", name)
        print("MIN:",       min(variable))
        print("MAX:",       max(variable))
        print("Mean:",      np.mean(variable))
        print("Median:",    np.median(variable))
        print("Range:",     np.ptp(variable))
        print("STD:",       np.std(variable))
        print("Variance:",  np.var(variable))
        print("Percentile 90%:", np.percentile(variable,90))      # percentyl 90% - 90% zbioru jest mniejsza
        print("\n")

def print_histograms(item):
    for name, variable in item.items():
        plt.figure()
        plt.hist(variable,100)    
        plt.title('Histogram for: ' + name)
        plt.xlabel('Range')
        plt.ylabel('No. of observations')
        plt.show()



print_statistics(variables) 
print_histograms(variables)





problem = {'Power':power, 'dT':dT, 'flow':flow}
for name,variable in problem.items():
    print(name + "\n mean = {0},  median = {1}, percentile_90 = {2}".format(
        round(variable.mean(),1),np.median(variable), np.percentile(variable,90)))





print(power[-20:])    
print(dT[-20:])    
print(flow[-20:])    





Q1 = np.percentile(power, 25)
Q3 = np.percentile(power, 75)
IQR = Q3 - Q1
limit_val = Q3 + 5*IQR





data = data[data.iloc[:,8]<=limit_val]





dates     = data[data.columns[0]].to_numpy()
energy    = data[data.columns[1]].to_numpy()
flow      = data[data.columns[2]].to_numpy()
T_in      = data[data.columns[3]].to_numpy()
T_out     = data[data.columns[4]].to_numpy() 
dT        = data[data.columns[5]].to_numpy()
Vol       = data[data.columns[6]].to_numpy()
work_time = data[data.columns[7]].to_numpy()
power     = data[data.columns[8]].to_numpy()

variables = { 'energy':energy, 
           'Flow':flow, 'T_in':T_in, 'T_out':T_out,
           'dT':dT, 'Vol':Vol, 'work_time':work_time, 'power':power}





print_statistics(variables) 
print_histograms(variables)





dates2 = dates.astype('datetime64',copy=False)    # number to date 
day0 = np.datetime64('2015-01-01')                # first day of that year

sek = (dates2 - day0).astype('float')  
hours2 = sek/3600
days2 = hours2/24 





Q1 = days2[(days2 <= 90)]
Q2 = days2[(days2 > 90) & (days2 <= 181)]
Q3 = days2[(days2 > 181) & (days2 <= 273)]
Q4 = days2[(days2 > 273) & (days2 <= 365)]





corr_matrix = data.corr(numeric_only = True)





corr_matrix = corr_matrix.where(np.tril(np.ones(corr_matrix.shape),k=-1).astype(bool))
with sns.axes_style('white'):
    f,ax = plt.subplots(figsize=(15,10))
    ax= sns.heatmap(corr_matrix,vmin=-1, vmax=1, cmap='RdBu', linewidth =.1, annot = True)
    plt.rc('xtick', labelsize=9) 
    plt.rc('ytick', labelsize=9)
    #ax.xaxis.tick_top()








correlated = { 'energy':energy, 
           'flow':flow, 'T_in':T_in,
           'dT':dT, 'Vol':Vol, 'work_time':work_time, 'power':power}





correlations = pd.DataFrame()  
for name, variable in correlated.items():
    correlations[name] = variable





scatter_matrix(correlations, alpha = 0.2, figsize = (6, 6), diagonal = 'hist')





plot_alpha = 0.1 # transparency 
fig = plt.figure()
#fig.suptitle('Power, by quarter', fontsize=24)
ax1 = plt.subplot(221)
ax2 = plt.subplot(222, sharey = ax1)
ax3 = plt.subplot(223, sharey = ax1)
ax4 = plt.subplot(224, sharey = ax1)

for ax in (ax1,ax2,ax3,ax4):
    ax.set_xlabel('Day number')
    ax.set_ylabel('Heating power [kW]')

ax1.scatter(Q1, power[0:len(Q1)], alpha = plot_alpha)
ax2.scatter(Q2, power[len(Q1) : len(Q1) + len(Q2)], alpha = plot_alpha)
ax3.scatter(Q3, power[len(Q1) + len(Q2) : len(Q1) + len(Q2) + len(Q3)], alpha = plot_alpha)
ax4.scatter(Q4, power[len(Q1) + len(Q2) + len(Q3) : len(Q1) + len(Q2) + len(Q3) + len(Q4)], alpha =plot_alpha)
plt.show()





plt.subplot(2,2,1)
plt.scatter(days2, energy, alpha = plot_alpha)
plt.xlabel('Day number')
plt.ylabel('Flow energy [GJ]')

plt.subplot(2,2,2)
plt.scatter(days2, flow, alpha = plot_alpha)
plt.xlabel('Day number')
plt.ylabel('Flow [L/h]')

plt.subplot(2,2,3)
plt.scatter(days2, dT, alpha = plot_alpha)
plt.xlabel('Day number')
plt.ylabel('Temp. diff [deg C]')

plt.subplot(2,2,4)
plt.scatter(days2, power, alpha = plot_alpha)
plt.xlabel('Day number')
plt.ylabel('Heating power [kW]')

plt.tight_layout()
plt.show()







